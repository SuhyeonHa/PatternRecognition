{
  "nbformat": 4,
  "nbformat_minor": 0,
  "metadata": {
    "colab": {
      "name": "pattern recognition hw1-2.ipynb",
      "provenance": [],
      "collapsed_sections": [],
      "include_colab_link": true
    },
    "kernelspec": {
      "name": "python3",
      "display_name": "Python 3"
    }
  },
  "cells": [
    {
      "cell_type": "markdown",
      "metadata": {
        "id": "view-in-github",
        "colab_type": "text"
      },
      "source": [
        "<a href=\"https://colab.research.google.com/github/SuhyeonHa/PatternRecognition/blob/master/hw1_2.ipynb\" target=\"_parent\"><img src=\"https://colab.research.google.com/assets/colab-badge.svg\" alt=\"Open In Colab\"/></a>"
      ]
    },
    {
      "cell_type": "code",
      "metadata": {
        "id": "d7Cl6pBmVRtb",
        "colab_type": "code",
        "colab": {}
      },
      "source": [
        "########################################################################\n",
        "## Pattern Recognition - HW1 (Problem 2)\n",
        "## Chung-Ang University\n",
        "## Lecturer: Jongwon Choi (The graduate school of advanced imaging science, multimedia & film)\n",
        "##           email: choijw@cau.ac.kr\n",
        "########################################################################\n",
        "\n",
        "# DO NOT USE ANY ADDITIONAL LIBRARY\n",
        "import matplotlib as mpl\n",
        "import matplotlib.pyplot as plt\n",
        "import numpy as np"
      ],
      "execution_count": 0,
      "outputs": []
    },
    {
      "cell_type": "code",
      "metadata": {
        "id": "dAeF7FQFghN9",
        "colab_type": "code",
        "outputId": "9fe93374-2105-43be-e009-28f93eee07af",
        "colab": {
          "base_uri": "https://localhost:8080/",
          "height": 191
        }
      },
      "source": [
        "#####################\n",
        "## REGRESSION DATA ##\n",
        "#####################\n",
        "SIZE_TRAINING_DATA = 200\n",
        "NOISE_RATIO = 0.5\n",
        "MIN_RANGE = 0.0\n",
        "MAX_RANGE = 10.0\n",
        "FEATURE_DIM = 20\n",
        "\n",
        "np.random.seed(0)\n",
        "feature_training = np.random.uniform(MIN_RANGE, MAX_RANGE, [SIZE_TRAINING_DATA, FEATURE_DIM])\n",
        "label_training = np.mean(np.random.rand(1, FEATURE_DIM)*feature_training, 1) + np.random.randn(SIZE_TRAINING_DATA)*NOISE_RATIO\n",
        "\n",
        "# Plot the samples\n",
        "f, ax = plt.subplots(1, figsize=(10, 2))\n",
        "ax.scatter(feature_training[:, 0], label_training)\n",
        "f.show()\n",
        "\n",
        "print(feature_training.shape)\n",
        "print(label_training.shape)\n",
        "# print(label_training)"
      ],
      "execution_count": 101,
      "outputs": [
        {
          "output_type": "stream",
          "text": [
            "(200, 20)\n",
            "(200,)\n"
          ],
          "name": "stdout"
        },
        {
          "output_type": "display_data",
          "data": {
            "image/png": "[encoded data removed]",
            "text/plain": [
              "<Figure size 720x144 with 1 Axes>"
            ]
          },
          "metadata": {
            "tags": [],
            "needs_background": "light"
          }
        }
      ]
    },
    {
      "cell_type": "code",
      "metadata": {
        "colab_type": "code",
        "id": "WsBMTjGeXxwE",
        "outputId": "d16978a1-f1d2-4c56-d120-ee86ce383119",
        "colab": {
          "base_uri": "https://localhost:8080/",
          "height": 159
        }
      },
      "source": [
        "###############\n",
        "## TEST DATA ##\n",
        "###############\n",
        "SIZE_TEST_DATA = 20\n",
        "\n",
        "np.random.seed(1)\n",
        "feature_test = np.random.uniform(MIN_RANGE, MAX_RANGE, [SIZE_TEST_DATA, FEATURE_DIM])\n",
        "\n",
        "# Plot the samples\n",
        "f, ax = plt.subplots(1, figsize=(10, 2))\n",
        "ax.scatter(feature_test[:, 0], feature_test[:, 1])\n",
        "f.show()"
      ],
      "execution_count": 102,
      "outputs": [
        {
          "output_type": "display_data",
          "data": {
            "image/png": "[encoded data removed]",
            "text/plain": [
              "<Figure size 720x144 with 1 Axes>"
            ]
          },
          "metadata": {
            "tags": [],
            "needs_background": "light"
          }
        }
      ]
    },
    {
      "cell_type": "code",
      "metadata": {
        "id": "bUfCUYGY3yxp",
        "colab_type": "code",
        "outputId": "fd6ec97c-8c4b-4bc1-ec72-be0064873da7",
        "colab": {
          "base_uri": "https://localhost:8080/",
          "height": 51
        }
      },
      "source": [
        "#############################################################\n",
        "## Problem 1 - A \n",
        "label_test = np.zeros(SIZE_TEST_DATA) # Estimate this by Ridge regression (Normal Equation)\n",
        "############################################################\n",
        "# data should be in form of vector (column)\n",
        "label_test = np.zeros(SIZE_TEST_DATA)\n",
        "# X = feature_training\n",
        "# y = label_training[:,None]\n",
        "X = np.matrix(feature_training)\n",
        "y = np.matrix(label_training).T\n",
        "print(X.shape)\n",
        "print(y.shape)"
      ],
      "execution_count": 108,
      "outputs": [
        {
          "output_type": "stream",
          "text": [
            "(200, 20)\n",
            "(200, 1)\n"
          ],
          "name": "stdout"
        }
      ]
    },
    {
      "cell_type": "code",
      "metadata": {
        "id": "va_CbRcN4al8",
        "colab_type": "code",
        "colab": {}
      },
      "source": [
        "def gradient(X, y, l):\n",
        "  temp = X.T@X\n",
        "  # print(temp.shape)\n",
        "  temp2 = temp + l*np.identity(temp.shape[0])\n",
        "  # print(temp2.shape)\n",
        "  temp3 = X.T@y\n",
        "  # print(temp3.shape)\n",
        "  w = np.linalg.inv(temp2)@temp3\n",
        "  return w"
      ],
      "execution_count": 0,
      "outputs": []
    },
    {
      "cell_type": "code",
      "metadata": {
        "id": "epnam_wzTQQr",
        "colab_type": "code",
        "colab": {}
      },
      "source": [
        "w = gradient(X, y, 3)\n",
        "# print(w)\n",
        "X_test = feature_test\n",
        "# print(X_test.shape)\n",
        "y_hat = np.matmul(X_test, w)"
      ],
      "execution_count": 0,
      "outputs": []
    },
    {
      "cell_type": "code",
      "metadata": {
        "id": "u2tuVisvmquB",
        "colab_type": "code",
        "colab": {}
      },
      "source": [
        "label_test = y_hat.tolist()\n",
        "# label_test"
      ],
      "execution_count": 0,
      "outputs": []
    },
    {
      "cell_type": "code",
      "metadata": {
        "id": "fFi3o3qfK7jL",
        "colab_type": "code",
        "outputId": "3358a0be-8ee3-46c6-fb87-95bb792fc47b",
        "colab": {
          "base_uri": "https://localhost:8080/",
          "height": 157
        }
      },
      "source": [
        "# Plot the samples\n",
        "f, ax = plt.subplots(1, figsize=(10, 2))\n",
        "ax.scatter(feature_test[:, 0], label_test)\n",
        "f.show()"
      ],
      "execution_count": 112,
      "outputs": [
        {
          "output_type": "display_data",
          "data": {
            "image/png": "[encoded data removed]",
            "text/plain": [
              "<Figure size 720x144 with 1 Axes>"
            ]
          },
          "metadata": {
            "tags": [],
            "needs_background": "light"
          }
        }
      ]
    },
    {
      "cell_type": "code",
      "metadata": {
        "id": "LF5GhRPTjfhW",
        "colab_type": "code",
        "colab": {}
      },
      "source": [
        "#############################################################\n",
        "## Problem 1 - B\n",
        "label_test = np.zeros(SIZE_TEST_DATA) # Estimate this by Ridge regression (Gradient Descent)\n",
        "############################################################"
      ],
      "execution_count": 0,
      "outputs": []
    },
    {
      "cell_type": "code",
      "metadata": {
        "id": "i_bQCo2aiU5j",
        "colab_type": "code",
        "colab": {}
      },
      "source": [
        "def predict(X, w):\n",
        "  return X@w"
      ],
      "execution_count": 0,
      "outputs": []
    },
    {
      "cell_type": "code",
      "metadata": {
        "id": "fE9S_CiKhFUu",
        "colab_type": "code",
        "colab": {}
      },
      "source": [
        "def ObjFnc(X, y, w, l):\n",
        "  y_hat = X@w\n",
        "  diff = y_hat - y\n",
        "  # print(y_hat.shape)\n",
        "  # print(y.shape)\n",
        "  # print(diff.shape)\n",
        "  term1 = (diff.T@diff)/2\n",
        "  # print(term1)\n",
        "  # print(term1.shape)\n",
        "  # print(w.shape)\n",
        "  term2 = (l*(w.T@w))/ 2\n",
        "  # print(term2)\n",
        "  # print(term2.shape)\n",
        "  return term1 + term2"
      ],
      "execution_count": 0,
      "outputs": []
    },
    {
      "cell_type": "code",
      "metadata": {
        "id": "75j7VK_qnVzY",
        "colab_type": "code",
        "outputId": "cb0fc534-f1fa-4d0f-ef1d-1ab817d9cad9",
        "colab": {
          "base_uri": "https://localhost:8080/",
          "height": 68
        }
      },
      "source": [
        "# X: (n,d), y: (n,1), w: (d,1)\n",
        "X = np.mat(feature_training)\n",
        "y = np.mat(label_training).T\n",
        "w = np.mat(np.zeros((FEATURE_DIM, 1)))\n",
        "print(X.shape)\n",
        "print(y.shape)\n",
        "print(w.shape)"
      ],
      "execution_count": 116,
      "outputs": [
        {
          "output_type": "stream",
          "text": [
            "(200, 20)\n",
            "(200, 1)\n",
            "(20, 1)\n"
          ],
          "name": "stdout"
        }
      ]
    },
    {
      "cell_type": "code",
      "metadata": {
        "id": "RuEYTO-dlgP2",
        "colab_type": "code",
        "outputId": "555d4e42-032f-4930-9bc6-a040d36090e8",
        "colab": {
          "base_uri": "https://localhost:8080/",
          "height": 51
        }
      },
      "source": [
        "l = 10\n",
        "lr = 1e-5\n",
        "itr = 100\n",
        "cost_list = []\n",
        "\n",
        "for i in range(itr):\n",
        "  cost_prev = ObjFnc(X, y, w, l)\n",
        "  cost_list.append(cost_prev)\n",
        "  # print(cost_prev)\n",
        "  new_w = w - lr*(X.T@X@w - X.T@y + l*w)\n",
        "  cost_next = ObjFnc(X, y, new_w, l)\n",
        "  # print(cost_next)\n",
        "  if(cost_prev < cost_next): # repeat until convergence cost_prev < cost_next\n",
        "    break\n",
        "  else:\n",
        "    w = new_w\n",
        "\n",
        "final_step = i\n",
        "final_w = w\n",
        "print(f'final_step {final_step}')\n",
        "print(f'final_cost {cost_prev}')\n",
        "# print(f'cost {cost_list}')"
      ],
      "execution_count": 117,
      "outputs": [
        {
          "output_type": "stream",
          "text": [
            "final_step 99\n",
            "final_cost [[24.60666211]]\n"
          ],
          "name": "stdout"
        }
      ]
    },
    {
      "cell_type": "code",
      "metadata": {
        "id": "L5uzRMLshDcz",
        "colab_type": "code",
        "outputId": "bd3722be-5474-4310-f44c-1c62eef1b259",
        "colab": {
          "base_uri": "https://localhost:8080/",
          "height": 157
        }
      },
      "source": [
        "X_test = feature_test\n",
        "# print(X_test.shape)\n",
        "y_hat = np.matmul(X_test, w)\n",
        "label_test = y_hat.tolist()\n",
        "############################################################\n",
        "# Plot the samples\n",
        "f, ax = plt.subplots(1, figsize=(10, 2))\n",
        "ax.scatter(feature_test[:, 0], label_test)\n",
        "f.show()"
      ],
      "execution_count": 118,
      "outputs": [
        {
          "output_type": "display_data",
          "data": {
            "image/png": "[encoded data removed]",
            "text/plain": [
              "<Figure size 720x144 with 1 Axes>"
            ]
          },
          "metadata": {
            "tags": [],
            "needs_background": "light"
          }
        }
      ]
    },
    {
      "cell_type": "code",
      "metadata": {
        "id": "19f3MWm2so6b",
        "colab_type": "code",
        "outputId": "9bdeab7f-a55a-492e-ea76-53b3a911f72d",
        "colab": {
          "base_uri": "https://localhost:8080/",
          "height": 157
        }
      },
      "source": [
        "###########################\n",
        "## NOISY REGRESSION DATA ##\n",
        "###########################\n",
        "SIZE_NOISE_DATA = 10\n",
        "NOISE_POWER = 5.0\n",
        "\n",
        "np.random.seed(0)\n",
        "label_training_noisy = label_training.copy()\n",
        "label_training_noisy[:SIZE_NOISE_DATA] = np.random.randn(SIZE_NOISE_DATA)*NOISE_POWER\n",
        "\n",
        "# Plot the samples\n",
        "f, ax = plt.subplots(1, figsize=(10, 2))\n",
        "ax.scatter(feature_training[:, 0], label_training_noisy)\n",
        "f.show()"
      ],
      "execution_count": 119,
      "outputs": [
        {
          "output_type": "display_data",
          "data": {
            "image/png": "[encoded data removed]",
            "text/plain": [
              "<Figure size 720x144 with 1 Axes>"
            ]
          },
          "metadata": {
            "tags": [],
            "needs_background": "light"
          }
        }
      ]
    },
    {
      "cell_type": "code",
      "metadata": {
        "id": "cDbPnuwolSP_",
        "colab_type": "code",
        "colab": {}
      },
      "source": [
        "#############################################################\n",
        "## Problem 1 - C\n",
        "label_test = np.zeros(SIZE_TEST_DATA) # Estimate this by Noise-robust L1-norm regression (Gradient Descent)\n",
        "############################################################"
      ],
      "execution_count": 0,
      "outputs": []
    },
    {
      "cell_type": "code",
      "metadata": {
        "id": "LCx_89Ra7A9j",
        "colab_type": "code",
        "colab": {}
      },
      "source": [
        "def loss_h(r, epsilon):\n",
        "  num = r.size\n",
        "  result = np.zeros_like(r)\n",
        "  for i in range(num):\n",
        "    if np.abs(r[i]) <= epsilon:\n",
        "      result[i] = (r[i] ** 2)/2\n",
        "    else:\n",
        "      result[i] = epsilon*(np.abs(r[i])-(epsilon/2))\n",
        "  return np.sum(result)"
      ],
      "execution_count": 0,
      "outputs": []
    },
    {
      "cell_type": "code",
      "metadata": {
        "id": "NHMfNPs07uuQ",
        "colab_type": "code",
        "colab": {}
      },
      "source": [
        "def grad_h(X, y, w, epsilon):\n",
        "  r = X@w - y\n",
        "  num = r.size\n",
        "  result = np.zeros_like(r)\n",
        "  for i in range(num):\n",
        "    if np.abs(r[i]) <= epsilon:\n",
        "      result[i] = r[i]\n",
        "    else:\n",
        "      result[i] = epsilon*np.sign(r[i])\n",
        "  return result"
      ],
      "execution_count": 0,
      "outputs": []
    },
    {
      "cell_type": "code",
      "metadata": {
        "id": "-944ITK48Vxy",
        "colab_type": "code",
        "colab": {}
      },
      "source": [
        "def predict_y(X, r):\n",
        "  print(X.shape)\n",
        "  print(r.shape)\n",
        "  return h@r"
      ],
      "execution_count": 0,
      "outputs": []
    },
    {
      "cell_type": "code",
      "metadata": {
        "id": "_EcX_FwBlbhc",
        "colab_type": "code",
        "outputId": "5d734216-6824-4610-89d7-72d9ca04e216",
        "colab": {
          "base_uri": "https://localhost:8080/",
          "height": 68
        }
      },
      "source": [
        "## Your implementation (Use feature_training and label_training_noisy)\n",
        "X = np.mat(feature_training)\n",
        "y = np.mat(label_training_noisy).T\n",
        "w = np.mat(np.zeros((FEATURE_DIM, 1)))\n",
        "print(X.shape)\n",
        "print(y.shape)\n",
        "print(w.shape)"
      ],
      "execution_count": 124,
      "outputs": [
        {
          "output_type": "stream",
          "text": [
            "(200, 20)\n",
            "(200, 1)\n",
            "(20, 1)\n"
          ],
          "name": "stdout"
        }
      ]
    },
    {
      "cell_type": "code",
      "metadata": {
        "id": "B8rfysti8LkY",
        "colab_type": "code",
        "outputId": "2f9d102e-888b-448e-e144-faab4eb7e2df",
        "colab": {
          "base_uri": "https://localhost:8080/",
          "height": 51
        }
      },
      "source": [
        "epsilon = 1\n",
        "lr = 1e-1\n",
        "itr = 100\n",
        "cost_list = []\n",
        "r = X@w - y\n",
        "for i in range(itr):\n",
        "  cost_prev = loss_h(r, epsilon)\n",
        "  cost_list.append(cost_prev)\n",
        "  # print(cost_prev)\n",
        "  gradient = grad_h(X, y, w, epsilon)\n",
        "  new_r = r - lr*gradient\n",
        "  cost_next = loss_h(new_r, epsilon)\n",
        "  # print(cost_next)\n",
        "  if(cost_prev < cost_next): # repeat until convergence cost_prev < cost_next\n",
        "    break\n",
        "  else:\n",
        "    r = new_r\n",
        "\n",
        "final_step = i\n",
        "final_r = r\n",
        "print(f'final_step {final_step}')\n",
        "print(f'final_cost {cost_prev}')\n",
        "# print(f'cost {cost_list}')"
      ],
      "execution_count": 125,
      "outputs": [
        {
          "output_type": "stream",
          "text": [
            "final_step 25\n",
            "final_cost 60.808077049679646\n"
          ],
          "name": "stdout"
        }
      ]
    },
    {
      "cell_type": "code",
      "metadata": {
        "id": "0VDwaCUccCcM",
        "colab_type": "code",
        "colab": {}
      },
      "source": [
        "label_test = r.tolist()"
      ],
      "execution_count": 0,
      "outputs": []
    },
    {
      "cell_type": "code",
      "metadata": {
        "id": "h5zMS4GAruaU",
        "colab_type": "code",
        "colab": {
          "base_uri": "https://localhost:8080/",
          "height": 157
        },
        "outputId": "a77d1566-222a-4aac-bf46-9cbc26bdd5e2"
      },
      "source": [
        "############################################################\n",
        "# Plot the samples\n",
        "f, ax = plt.subplots(1, figsize=(10, 2))\n",
        "ax.scatter(feature_training[:, 0], label_test)\n",
        "f.show()"
      ],
      "execution_count": 127,
      "outputs": [
        {
          "output_type": "display_data",
          "data": {
            "image/png": "[encoded data removed]",
            "text/plain": [
              "<Figure size 720x144 with 1 Axes>"
            ]
          },
          "metadata": {
            "tags": [],
            "needs_background": "light"
          }
        }
      ]
    }
  ]
}