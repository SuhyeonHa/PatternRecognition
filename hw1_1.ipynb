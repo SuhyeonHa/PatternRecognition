{
  "nbformat": 4,
  "nbformat_minor": 0,
  "metadata": {
    "colab": {
      "name": "pattern_recognition_hw1_1.ipynb",
      "provenance": [],
      "collapsed_sections": []
    },
    "kernelspec": {
      "name": "python3",
      "display_name": "Python 3"
    }
  },
  "cells": [
    {
      "cell_type": "code",
      "metadata": {
        "id": "d7Cl6pBmVRtb",
        "colab_type": "code",
        "colab": {}
      },
      "source": [
        "########################################################################\n",
        "## Pattern Recognition - HW1 (Problem 1)\n",
        "## Chung-Ang University\n",
        "## Lecturer: Jongwon Choi (The graduate school of advanced imaging science, multimedia & film)\n",
        "##           email: choijw@cau.ac.kr\n",
        "########################################################################\n",
        "\n",
        "# DO NOT USE ANY ADDITIONAL LIBRARY\n",
        "import matplotlib as mpl\n",
        "import matplotlib.pyplot as plt\n",
        "import numpy as np\n"
      ],
      "execution_count": 0,
      "outputs": []
    },
    {
      "cell_type": "code",
      "metadata": {
        "id": "dAeF7FQFghN9",
        "colab_type": "code",
        "outputId": "1dc64946-dc43-4ad3-83d6-05f317b20633",
        "colab": {
          "base_uri": "https://localhost:8080/",
          "height": 191
        }
      },
      "source": [
        "###################\n",
        "## TRAINING DATA ##\n",
        "###################\n",
        "SIZE_TRAINING_DATA = 200\n",
        "FEATURE_DIM = 50\n",
        "np.random.seed(0)\n",
        "feature_training = np.concatenate( (np.random.randn(SIZE_TRAINING_DATA, FEATURE_DIM), np.random.randn(SIZE_TRAINING_DATA, FEATURE_DIM) + 1.0), 0 )\n",
        "label_training = np.concatenate( (np.zeros(SIZE_TRAINING_DATA), np.ones(SIZE_TRAINING_DATA)), 0)\n",
        "\n",
        "# Plot the samples\n",
        "f, ax = plt.subplots(1, figsize=(10, 2))\n",
        "ax.scatter(feature_training[label_training==0, 0], feature_training[label_training==0, 1])\n",
        "ax.scatter(feature_training[label_training==1, 0], feature_training[label_training==1, 1])\n",
        "f.show()\n",
        "\n",
        "print(feature_training.shape)\n",
        "print(label_training.shape)"
      ],
      "execution_count": 66,
      "outputs": [
        {
          "output_type": "stream",
          "text": [
            "(400, 50)\n",
            "(400,)\n"
          ],
          "name": "stdout"
        },
        {
          "output_type": "display_data",
          "data": {
            "image/png": "[encoded data removed]",
            "text/plain": [
              "<Figure size 720x144 with 1 Axes>"
            ]
          },
          "metadata": {
            "tags": [],
            "needs_background": "light"
          }
        }
      ]
    },
    {
      "cell_type": "code",
      "metadata": {
        "colab_type": "code",
        "id": "WsBMTjGeXxwE",
        "outputId": "1a6b3b83-59ef-482d-8e3f-5cb2f9d2ee13",
        "colab": {
          "base_uri": "https://localhost:8080/",
          "height": 174
        }
      },
      "source": [
        "###############\n",
        "## TEST DATA ##\n",
        "###############\n",
        "SIZE_TEST_DATA = 20\n",
        "np.random.seed(1)\n",
        "feature_test = np.concatenate( (np.random.randn(SIZE_TEST_DATA,FEATURE_DIM), np.random.randn(SIZE_TEST_DATA,FEATURE_DIM) + 1.0), 0 )\n",
        "\n",
        "# Plot the samples\n",
        "f, ax = plt.subplots(1, figsize=(10, 2))\n",
        "ax.scatter(feature_test[:, 0], feature_test[:, 1])\n",
        "f.show()\n",
        "\n",
        "print(feature_test.shape)"
      ],
      "execution_count": 67,
      "outputs": [
        {
          "output_type": "stream",
          "text": [
            "(40, 50)\n"
          ],
          "name": "stdout"
        },
        {
          "output_type": "display_data",
          "data": {
            "image/png": "[encoded data removed]",
            "text/plain": [
              "<Figure size 720x144 with 1 Axes>"
            ]
          },
          "metadata": {
            "tags": [],
            "needs_background": "light"
          }
        }
      ]
    },
    {
      "cell_type": "code",
      "metadata": {
        "id": "BndOIcSEruSV",
        "colab_type": "code",
        "outputId": "97f6c74c-92e1-471c-a4a1-d169bd69c8a2",
        "colab": {
          "base_uri": "https://localhost:8080/",
          "height": 51
        }
      },
      "source": [
        "#############################################################\n",
        "## Problem 1 - A\n",
        "label_test = np.zeros(SIZE_TEST_DATA*2) # Estimate this by k-NN classifier (conventional k-NN classifier)\n",
        "############################################################\n",
        "print(label_test)"
      ],
      "execution_count": 68,
      "outputs": [
        {
          "output_type": "stream",
          "text": [
            "[0. 0. 0. 0. 0. 0. 0. 0. 0. 0. 0. 0. 0. 0. 0. 0. 0. 0. 0. 0. 0. 0. 0. 0.\n",
            " 0. 0. 0. 0. 0. 0. 0. 0. 0. 0. 0. 0. 0. 0. 0. 0.]\n"
          ],
          "name": "stdout"
        }
      ]
    },
    {
      "cell_type": "code",
      "metadata": {
        "id": "IRCAJYx-aTFJ",
        "colab_type": "code",
        "colab": {}
      },
      "source": [
        "def distance(arr1, arr2, num):\n",
        "  total = 0.0\n",
        "  diff = arr1 - arr2\n",
        "  sqr = diff ** 2\n",
        "  for i in range(num):\n",
        "    total += sqr[i]\n",
        "  total = total ** 0.5\n",
        "  return total"
      ],
      "execution_count": 0,
      "outputs": []
    },
    {
      "cell_type": "code",
      "metadata": {
        "id": "ERvN4eMMiwIj",
        "colab_type": "code",
        "colab": {}
      },
      "source": [
        "def kNN(k, training_data, test_data, label_training_data, label_test_data):\n",
        "  for i in range(len(test_data)):\n",
        "    list_dist = []\n",
        "    for j in range(len(training_data)): # push (index, distance) in list_dist\n",
        "      dist = distance(test_data[i], training_data[j], FEATURE_DIM)\n",
        "      list_dist.append((j, dist))\n",
        "\n",
        "    # sort list_dist with distance by ascending order\n",
        "    list_dist = sorted(list_dist, key=lambda x : x[1])\n",
        "    # print(len(list_dist))\n",
        "    # print(list_dist)\n",
        "\n",
        "    # pop nearest k samples\n",
        "    cand_list = []\n",
        "    for m in range(k): \n",
        "      cand_list.append(list_dist[m][0]) # extract index\n",
        "    # print(cand_list)\n",
        "\n",
        "    # predict label\n",
        "    count = 0\n",
        "    for n in range(k): \n",
        "      cand_label = label_training_data[cand_list[n]]\n",
        "      # print(n, cand_label)\n",
        "      if cand_label == 1.0:\n",
        "        count = count + 1\n",
        "\n",
        "    if count > k/2:\n",
        "      label_test_data[i] = 1\n",
        "    else:\n",
        "      label_test_data[i] = 0\n",
        "  # print(label_test_data)"
      ],
      "execution_count": 0,
      "outputs": []
    },
    {
      "cell_type": "code",
      "metadata": {
        "id": "GW0v4iI52MLZ",
        "colab_type": "code",
        "colab": {}
      },
      "source": [
        "# Plot the samples\n",
        "def plot_kNN(x, y):\n",
        "  f, ax = plt.subplots(1, figsize=(10, 2))\n",
        "  ax.scatter(x[y==0, 0], x[y==0, 1])\n",
        "  ax.scatter(x[y==1, 0], x[y==1, 1])\n",
        "  f.show()"
      ],
      "execution_count": 0,
      "outputs": []
    },
    {
      "cell_type": "code",
      "metadata": {
        "id": "FVS6svfz9VKO",
        "colab_type": "code",
        "outputId": "809b4b7a-ec6e-47ad-8857-a234fdf715ff",
        "colab": {
          "base_uri": "https://localhost:8080/",
          "height": 802
        }
      },
      "source": [
        "# Plot the samples when k=1,3,5,7,9\n",
        "for i in range(1, 11, 2):\n",
        "  print(f'k = {i}')\n",
        "  kNN(i, feature_training, feature_test, label_training, label_test)\n",
        "  plot_kNN(feature_test, label_test)"
      ],
      "execution_count": 72,
      "outputs": [
        {
          "output_type": "stream",
          "text": [
            "k = 1\n",
            "k = 3\n",
            "k = 5\n",
            "k = 7\n",
            "k = 9\n"
          ],
          "name": "stdout"
        },
        {
          "output_type": "display_data",
          "data": {
            "image/png": "[encoded data removed]",
            "text/plain": [
              "<Figure size 720x144 with 1 Axes>"
            ]
          },
          "metadata": {
            "tags": [],
            "needs_background": "light"
          }
        },
        {
          "output_type": "display_data",
          "data": {
            "image/png": "[encoded data removed]",
            "text/plain": [
              "<Figure size 720x144 with 1 Axes>"
            ]
          },
          "metadata": {
            "tags": [],
            "needs_background": "light"
          }
        },
        {
          "output_type": "display_data",
          "data": {
            "image/png": "[encoded data removed]",
            "text/plain": [
              "<Figure size 720x144 with 1 Axes>"
            ]
          },
          "metadata": {
            "tags": [],
            "needs_background": "light"
          }
        },
        {
          "output_type": "display_data",
          "data": {
            "image/png": "[encoded data removed]",
            "text/plain": [
              "<Figure size 720x144 with 1 Axes>"
            ]
          },
          "metadata": {
            "tags": [],
            "needs_background": "light"
          }
        },
        {
          "output_type": "display_data",
          "data": {
            "image/png": "[encoded data removed]",
            "text/plain": [
              "<Figure size 720x144 with 1 Axes>"
            ]
          },
          "metadata": {
            "tags": [],
            "needs_background": "light"
          }
        }
      ]
    },
    {
      "cell_type": "code",
      "metadata": {
        "id": "LF5GhRPTjfhW",
        "colab_type": "code",
        "outputId": "bb237a84-e0e9-49f6-c201-835bcd36f5b3",
        "colab": {
          "base_uri": "https://localhost:8080/",
          "height": 51
        }
      },
      "source": [
        "#############################################################\n",
        "## Problem 1 - B\n",
        "label_test = np.zeros(SIZE_TEST_DATA*2) # Estimate this by k-NN classifier (k-NN classifier with 5-fold cross-validation)\n",
        "############################################################\n",
        "print(feature_training.shape)\n",
        "SIZE_EXPERIMENT_DATA = int(len(feature_training)/5)\n",
        "# split feature_training into 5 groups\n",
        "data_1_feature = feature_training[0:SIZE_EXPERIMENT_DATA]\n",
        "data_2_feature = feature_training[SIZE_EXPERIMENT_DATA:SIZE_EXPERIMENT_DATA*2]\n",
        "data_3_feature = feature_training[SIZE_EXPERIMENT_DATA*2:SIZE_EXPERIMENT_DATA*3]\n",
        "data_4_feature = feature_training[SIZE_EXPERIMENT_DATA*3:SIZE_EXPERIMENT_DATA*4]\n",
        "data_5_feature = feature_training[SIZE_EXPERIMENT_DATA*4:SIZE_EXPERIMENT_DATA*5]\n",
        "print(f'data_1_feature: {data_1_feature.shape}', f'data_2_feature: {data_2_feature.shape}',\\\n",
        "f'data_3_feature: {data_3_feature.shape}', f'data_4_feature: {data_4_feature.shape}', f'data_5_feature: {data_5_feature.shape}')"
      ],
      "execution_count": 73,
      "outputs": [
        {
          "output_type": "stream",
          "text": [
            "(400, 50)\n",
            "data_1_feature: (80, 50) data_2_feature: (80, 50) data_3_feature: (80, 50) data_4_feature: (80, 50) data_5_feature: (80, 50)\n"
          ],
          "name": "stdout"
        }
      ]
    },
    {
      "cell_type": "code",
      "metadata": {
        "id": "7I6nsag_KWa7",
        "colab_type": "code",
        "outputId": "3f3e7456-2d69-401b-a000-c7be34f3382b",
        "colab": {
          "base_uri": "https://localhost:8080/",
          "height": 51
        }
      },
      "source": [
        "print(label_training.shape)\n",
        "# split label_training into 5 groups\n",
        "data_1_label = label_training[0:SIZE_EXPERIMENT_DATA]\n",
        "data_2_label = label_training[SIZE_EXPERIMENT_DATA:SIZE_EXPERIMENT_DATA*2]\n",
        "data_3_label = label_training[SIZE_EXPERIMENT_DATA*2:SIZE_EXPERIMENT_DATA*3]\n",
        "data_4_label = label_training[SIZE_EXPERIMENT_DATA*3:SIZE_EXPERIMENT_DATA*4]\n",
        "data_5_label = label_training[SIZE_EXPERIMENT_DATA*4:SIZE_EXPERIMENT_DATA*5]\n",
        "print(f'data_1_label: {data_1_label.shape}', f'data_2_label: {data_2_label.shape}',\\\n",
        "f'data_3_label: {data_3_label.shape}', f'data_4_label: {data_4_label.shape}', f'data_5_label: {data_5_label.shape}')"
      ],
      "execution_count": 74,
      "outputs": [
        {
          "output_type": "stream",
          "text": [
            "(400,)\n",
            "data_1_label: (80,) data_2_label: (80,) data_3_label: (80,) data_4_label: (80,) data_5_label: (80,)\n"
          ],
          "name": "stdout"
        }
      ]
    },
    {
      "cell_type": "code",
      "metadata": {
        "id": "vgghe3qtVQ5I",
        "colab_type": "code",
        "outputId": "85582922-f702-4bd6-96a3-d076f0b01f55",
        "colab": {
          "base_uri": "https://localhost:8080/",
          "height": 34
        }
      },
      "source": [
        "# label which will be updated with cross-validation\n",
        "label_test_1 = np.zeros(SIZE_EXPERIMENT_DATA)\n",
        "label_test_2 = np.zeros(SIZE_EXPERIMENT_DATA)\n",
        "label_test_3 = np.zeros(SIZE_EXPERIMENT_DATA)\n",
        "label_test_4 = np.zeros(SIZE_EXPERIMENT_DATA)\n",
        "label_test_5 = np.zeros(SIZE_EXPERIMENT_DATA)\n",
        "print(label_test_1.shape)"
      ],
      "execution_count": 75,
      "outputs": [
        {
          "output_type": "stream",
          "text": [
            "(80,)\n"
          ],
          "name": "stdout"
        }
      ]
    },
    {
      "cell_type": "code",
      "metadata": {
        "id": "Pxp_HDO7Y40Z",
        "colab_type": "code",
        "colab": {}
      },
      "source": [
        "# Experiment 1: 2,3,4,5 groups -> set_1_feature, set_1_label\n",
        "# Experiment 2: 1,3,4,5 groups -> set_2_feature, set_2_label ...\n",
        "set_1_feature = np.concatenate((data_2_feature, data_3_feature, data_4_feature, data_5_feature))\n",
        "set_1_label = np.concatenate((data_2_label, data_3_label, data_4_label, data_5_label))\n",
        "\n",
        "set_2_feature = np.concatenate((data_1_feature, data_3_feature, data_4_feature, data_5_feature))\n",
        "set_2_label = np.concatenate((data_1_label, data_3_label, data_4_label, data_5_label))\n",
        "\n",
        "set_3_feature = np.concatenate((data_1_feature, data_2_feature, data_4_feature, data_5_feature))\n",
        "set_3_label = np.concatenate((data_1_label, data_2_label, data_4_label, data_5_label))\n",
        "\n",
        "set_4_feature = np.concatenate((data_1_feature, data_2_feature, data_3_feature, data_5_feature))\n",
        "set_4_label = np.concatenate((data_1_label, data_2_label, data_3_label, data_5_label))\n",
        "\n",
        "set_5_feature = np.concatenate((data_1_feature, data_2_feature, data_3_feature, data_4_feature))\n",
        "set_5_label = np.concatenate((data_1_label, data_2_label, data_3_label, data_4_label))\n",
        "\n",
        "# print(f'set_1_feature: {set_1_feature.shape}', f'set_1_label: {set_1_label.shape}')\n",
        "# print(set_1_label)"
      ],
      "execution_count": 0,
      "outputs": []
    },
    {
      "cell_type": "code",
      "metadata": {
        "id": "4KmvSiF6Aqm-",
        "colab_type": "code",
        "colab": {}
      },
      "source": [
        "# Experiment 1: test (set_1_feature, set_1_label) with (data_1_feature, set_1_label)\n",
        "# Experiment 2: test (set_2_feature, set_2_label) with (data_2_feature, set_2_label) ...\n",
        "def CrossValidation(k):\n",
        "  kNN(k, set_1_feature, data_1_feature, set_1_label, label_test_1)\n",
        "  kNN(k, set_2_feature, data_2_feature, set_2_label, label_test_2)\n",
        "  kNN(k, set_3_feature, data_3_feature, set_3_label, label_test_3)\n",
        "  kNN(k, set_4_feature, data_4_feature, set_4_label, label_test_4)\n",
        "  kNN(k, set_5_feature, data_5_feature, set_5_label, label_test_5)\n",
        "\n",
        "  # plot_kNN(data_1_feature, label_test_1)\n",
        "  # plot_kNN(data_2_feature, label_test_2)\n",
        "  # plot_kNN(data_3_feature, label_test_3)\n",
        "  # plot_kNN(data_4_feature, label_test_4)\n",
        "  # plot_kNN(data_5_feature, label_test_5)\n",
        "\n",
        "  error = distance(data_1_label, label_test_1, SIZE_EXPERIMENT_DATA) \\\n",
        "  + distance(data_1_label, label_test_2, SIZE_EXPERIMENT_DATA) \\\n",
        "  + distance(data_1_label, label_test_3, SIZE_EXPERIMENT_DATA) \\\n",
        "  + distance(data_1_label, label_test_4, SIZE_EXPERIMENT_DATA) \\\n",
        "  + distance(data_1_label, label_test_5, SIZE_EXPERIMENT_DATA)\n",
        "  error /= 5\n",
        "  return error"
      ],
      "execution_count": 0,
      "outputs": []
    },
    {
      "cell_type": "code",
      "metadata": {
        "id": "8_s6-9p4gZoX",
        "colab_type": "code",
        "outputId": "d5ef6601-2298-4bce-8e31-7fbe28ee1710",
        "colab": {
          "base_uri": "https://localhost:8080/",
          "height": 102
        }
      },
      "source": [
        "# print the errors of cross-validation\n",
        "cand_k = [1,3,5,7,9]\n",
        "list_error = []\n",
        "for i in cand_k:\n",
        "  error = CrossValidation(i)\n",
        "  list_error.append((i, error))\n",
        "list_error"
      ],
      "execution_count": 78,
      "outputs": [
        {
          "output_type": "execute_result",
          "data": {
            "text/plain": [
              "[(1, 4.842619828067016),\n",
              " (3, 4.842619828067016),\n",
              " (5, 4.842619828067016),\n",
              " (7, 4.842619828067016),\n",
              " (9, 4.842619828067016)]"
            ]
          },
          "metadata": {
            "tags": []
          },
          "execution_count": 78
        }
      ]
    },
    {
      "cell_type": "code",
      "metadata": {
        "id": "fitzx10x2Ju4",
        "colab_type": "code",
        "outputId": "38f77ddd-d01b-488e-eaa6-f129bfdef9c2",
        "colab": {
          "base_uri": "https://localhost:8080/",
          "height": 34
        }
      },
      "source": [
        "# sort list_dist with the error by ascending order\n",
        "list_error = sorted(list_error, key=lambda x : x[1])\n",
        "# print(len(list_dist))\n",
        "print(list_error)"
      ],
      "execution_count": 79,
      "outputs": [
        {
          "output_type": "stream",
          "text": [
            "[(1, 4.842619828067016), (3, 4.842619828067016), (5, 4.842619828067016), (7, 4.842619828067016), (9, 4.842619828067016)]\n"
          ],
          "name": "stdout"
        }
      ]
    },
    {
      "cell_type": "code",
      "metadata": {
        "id": "lkHMj4Oq3mow",
        "colab_type": "code",
        "outputId": "4a8b35c6-47cf-4183-df39-89e2c68a1e73",
        "colab": {
          "base_uri": "https://localhost:8080/",
          "height": 34
        }
      },
      "source": [
        "best_k = list_error[0][0]\n",
        "print(f'best hyperparameter k: {best_k}')"
      ],
      "execution_count": 80,
      "outputs": [
        {
          "output_type": "stream",
          "text": [
            "best hyperparameter k: 1\n"
          ],
          "name": "stdout"
        }
      ]
    },
    {
      "cell_type": "code",
      "metadata": {
        "id": "cDbPnuwolSP_",
        "colab_type": "code",
        "outputId": "deddc105-9867-46d9-cdd5-5ee3d0d23080",
        "colab": {
          "base_uri": "https://localhost:8080/",
          "height": 136
        }
      },
      "source": [
        "#############################################################\n",
        "## Problem 1 - C\n",
        "label_test = np.zeros(SIZE_TEST_DATA*2) # Estimate this by k-NN classifier (Bootstrapped 5 k-NN classifier)\n",
        "############################################################\n",
        "\n",
        "# make 5 dataset groups with (400, 50) using random number between (1~5)\n",
        "data_n_feature = []\n",
        "data_n_feature.append(data_1_feature)\n",
        "data_n_feature.append(data_2_feature)\n",
        "data_n_feature.append(data_3_feature)\n",
        "data_n_feature.append(data_4_feature)\n",
        "data_n_feature.append(data_5_feature)\n",
        "\n",
        "data_n_label = []\n",
        "data_n_label.append(data_1_label)\n",
        "data_n_label.append(data_2_label)\n",
        "data_n_label.append(data_3_label)\n",
        "data_n_label.append(data_4_label)\n",
        "data_n_label.append(data_5_label)\n",
        "\n",
        "def makeDataset():\n",
        "  random_list = np.random.choice(5, 5, replace=True) # print 0~4 allowing repeat\n",
        "  print(random_list)\n",
        "\n",
        "  set_feature = np.concatenate((data_n_feature[random_list[0]], data_n_feature[random_list[1]]\\\n",
        "  , data_n_feature[random_list[2]], data_n_feature[random_list[3]], data_n_feature[random_list[4]]))\n",
        "  set_label = np.concatenate((data_n_label[random_list[0]], data_n_label[random_list[1]]\\\n",
        "  , data_n_label[random_list[2]], data_n_label[random_list[3]], data_n_label[random_list[4]]))\n",
        "\n",
        "  return set_feature, set_label\n",
        "\n",
        "set_1_feature, set_1_label = makeDataset()\n",
        "set_2_feature, set_2_label = makeDataset()\n",
        "set_3_feature, set_3_label = makeDataset()\n",
        "set_4_feature, set_4_label = makeDataset()\n",
        "set_5_feature, set_5_label = makeDataset()\n",
        "\n",
        "print(set_1_feature.shape)\n",
        "print(set_1_label.shape)"
      ],
      "execution_count": 81,
      "outputs": [
        {
          "output_type": "stream",
          "text": [
            "[4 0 2 2 0]\n",
            "[1 3 1 2 4]\n",
            "[2 0 3 4 4]\n",
            "[4 0 1 2 2]\n",
            "[3 1 0 2 2]\n",
            "(400, 50)\n",
            "(400,)\n"
          ],
          "name": "stdout"
        }
      ]
    },
    {
      "cell_type": "code",
      "metadata": {
        "id": "ofcxZUfnimRZ",
        "colab_type": "code",
        "outputId": "b0a8ed0a-9432-4daf-f692-cfae7550eac9",
        "colab": {
          "base_uri": "https://localhost:8080/",
          "height": 34
        }
      },
      "source": [
        "label_test_1 = np.zeros(len(label_test))\n",
        "label_test_2 = np.zeros(len(label_test))\n",
        "label_test_3 = np.zeros(len(label_test))\n",
        "label_test_4 = np.zeros(len(label_test))\n",
        "label_test_5 = np.zeros(len(label_test))\n",
        "print(label_test_1.shape)"
      ],
      "execution_count": 82,
      "outputs": [
        {
          "output_type": "stream",
          "text": [
            "(40,)\n"
          ],
          "name": "stdout"
        }
      ]
    },
    {
      "cell_type": "code",
      "metadata": {
        "id": "dnmVV0O-NqQy",
        "colab_type": "code",
        "outputId": "c3796299-9dcf-4f7f-835f-ae709d6a730e",
        "colab": {
          "base_uri": "https://localhost:8080/",
          "height": 717
        }
      },
      "source": [
        "# Experiment with fixed hyperparamer k = 3\n",
        "\n",
        "kNN(3, set_1_feature, feature_test, set_1_label, label_test_1)\n",
        "plot_kNN(feature_test, label_test_1)\n",
        "kNN(3, set_2_feature, feature_test, set_2_label, label_test_2)\n",
        "plot_kNN(feature_test, label_test_2)\n",
        "kNN(3, set_3_feature, feature_test, set_3_label, label_test_3)\n",
        "plot_kNN(feature_test, label_test_3)\n",
        "kNN(3, set_4_feature, feature_test, set_4_label, label_test_4)\n",
        "plot_kNN(feature_test, label_test_4)\n",
        "kNN(3, set_5_feature, feature_test, set_5_label, label_test_5)\n",
        "plot_kNN(feature_test, label_test_5)"
      ],
      "execution_count": 83,
      "outputs": [
        {
          "output_type": "display_data",
          "data": {
            "image/png": "[encoded data removed]",
            "text/plain": [
              "<Figure size 720x144 with 1 Axes>"
            ]
          },
          "metadata": {
            "tags": [],
            "needs_background": "light"
          }
        },
        {
          "output_type": "display_data",
          "data": {
            "image/png": "[encoded data removed]",
            "text/plain": [
              "<Figure size 720x144 with 1 Axes>"
            ]
          },
          "metadata": {
            "tags": [],
            "needs_background": "light"
          }
        },
        {
          "output_type": "display_data",
          "data": {
            "image/png": "[encoded data removed]",
            "text/plain": [
              "<Figure size 720x144 with 1 Axes>"
            ]
          },
          "metadata": {
            "tags": [],
            "needs_background": "light"
          }
        },
        {
          "output_type": "display_data",
          "data": {
            "image/png": "[encoded data removed]",
            "text/plain": [
              "<Figure size 720x144 with 1 Axes>"
            ]
          },
          "metadata": {
            "tags": [],
            "needs_background": "light"
          }
        },
        {
          "output_type": "display_data",
          "data": {
            "image/png": "[encoded data removed]",
            "text/plain": [
              "<Figure size 720x144 with 1 Axes>"
            ]
          },
          "metadata": {
            "tags": [],
            "needs_background": "light"
          }
        }
      ]
    },
    {
      "cell_type": "code",
      "metadata": {
        "id": "_hPieZCv5r-u",
        "colab_type": "code",
        "colab": {}
      },
      "source": [
        "# vote the prediction again among label_test_1~label_test_5\n",
        "label_sum = np.zeros_like(label_test)\n",
        "for i in range(len(label_test)):\n",
        "  label_sum[i] = np.sum(label_test_1[i]+label_test_2[i]\\\n",
        "  +label_test_3[i]+label_test_4[i]+label_test_5[i])\n",
        "for i in range(len(label_test)):\n",
        "  if label_sum[i] > 3: # test set/2\n",
        "    label_sum[i] = 1\n",
        "  else:\n",
        "    label_sum[i] = 0\n",
        "label_test = label_sum"
      ],
      "execution_count": 0,
      "outputs": []
    },
    {
      "cell_type": "code",
      "metadata": {
        "id": "Bevu_-yDiQCF",
        "colab_type": "code",
        "outputId": "43a12c74-97b2-4ca1-be62-7a016e1bd33e",
        "colab": {
          "base_uri": "https://localhost:8080/",
          "height": 157
        }
      },
      "source": [
        "# Plot the samples\n",
        "f, ax = plt.subplots(1, figsize=(10, 2))\n",
        "ax.scatter(feature_test[label_test==0, 0], feature_test[label_test==0, 1])\n",
        "ax.scatter(feature_test[label_test==1, 0], feature_test[label_test==1, 1])\n",
        "f.show()"
      ],
      "execution_count": 85,
      "outputs": [
        {
          "output_type": "display_data",
          "data": {
            "image/png": "[encoded data removed]",
            "text/plain": [
              "<Figure size 720x144 with 1 Axes>"
            ]
          },
          "metadata": {
            "tags": [],
            "needs_background": "light"
          }
        }
      ]
    },
    {
      "cell_type": "code",
      "metadata": {
        "id": "1fM-J-G_lWKk",
        "colab_type": "code",
        "colab": {
          "base_uri": "https://localhost:8080/",
          "height": 157
        },
        "outputId": "736c6385-33e6-4040-9429-3888bf8f2e74"
      },
      "source": [
        "#############################################################\n",
        "## Bonus Problem 1 - D\n",
        "## For this problem, you need to show and compare the computational time of Problem 1-A and 1-D.\n",
        "label_test = np.zeros(SIZE_TEST_DATA*2) # Estimate this by k-NN classifier (Double up the speed from Problem 1-A)\n",
        "\n",
        "############################################################\n",
        "## Your implementation\n",
        "\n",
        "############################################################\n",
        "\n",
        "# Plot the samples\n",
        "f, ax = plt.subplots(1, figsize=(10, 2))\n",
        "ax.scatter(feature_test[label_test==0, 0], feature_test[label_test==0, 1])\n",
        "ax.scatter(feature_test[label_test==1, 0], feature_test[label_test==1, 1])\n",
        "f.show()"
      ],
      "execution_count": 86,
      "outputs": [
        {
          "output_type": "display_data",
          "data": {
            "image/png": "[encoded data removed]",
            "text/plain": [
              "<Figure size 720x144 with 1 Axes>"
            ]
          },
          "metadata": {
            "tags": [],
            "needs_background": "light"
          }
        }
      ]
    },
    {
      "cell_type": "code",
      "metadata": {
        "id": "oNetIAgxMRPl",
        "colab_type": "code",
        "colab": {}
      },
      "source": [
        ""
      ],
      "execution_count": 0,
      "outputs": []
    }
  ]
}